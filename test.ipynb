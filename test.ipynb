{
 "cells": [
  {
   "cell_type": "code",
   "execution_count": 1,
   "metadata": {},
   "outputs": [],
   "source": [
    "import os\n",
    "os.environ['OMP_NUM_THREADS'] = '16'"
   ]
  },
  {
   "cell_type": "code",
   "execution_count": 7,
   "metadata": {},
   "outputs": [
    {
     "data": {
      "text/plain": [
       "<sufield.datasets.transforms.Compose at 0x7fe2bd9110d0>"
      ]
     },
     "execution_count": 7,
     "metadata": {},
     "output_type": "execute_result"
    }
   ],
   "source": [
    "from sufield.datasets import get_transform\n",
    "import yaml\n",
    "with open('/home/tb5zhh/SUField/config.yaml') as f:\n",
    "    a = f.read()\n",
    "args =  yaml.load(a, yaml.Loader)['training']\n",
    "get_transform(args['transforms'])"
   ]
  },
  {
   "cell_type": "code",
   "execution_count": 1,
   "metadata": {},
   "outputs": [
    {
     "name": "stderr",
     "output_type": "stream",
     "text": [
      "/home/tb5zhh/.conda/envs/sufield/lib/python3.8/site-packages/MinkowskiEngine/__init__.py:36: UserWarning: The environment variable `OMP_NUM_THREADS` not set. MinkowskiEngine will automatically set `OMP_NUM_THREADS=16`. If you want to set `OMP_NUM_THREADS` manually, please export it on the command line before running a python script. e.g. `export OMP_NUM_THREADS=12; python your_program.py`. It is recommended to set it below 24.\n",
      "  warnings.warn(\n"
     ]
    }
   ],
   "source": [
    "from sufield.datasets.dataset import ScanNetVoxelizedDataset\n",
    "import sufield.datasets.transforms as t\n",
    "import numpy as np\n",
    "dataset = ScanNetVoxelizedDataset(\n",
    "    '/home/tb5zhh/SUField/datasets/ScanNetv2_train_data.txt',\n",
    "    '/home/tb5zhh/SUField/datasets/ScanNetv2_train_labels.txt',\n",
    "    return_paths=True,\n",
    "    transforms=t.Compose([\n",
    "        t.ToTensor(),\n",
    "        t.ElasticDistortion(((0.2, 0.4), (0.8, 1.6)), 1),\n",
    "        t.RandomRotation(((0,0),(0,0),(np.pi/2, np.pi/2)), 1),\n",
    "        t.RandomScaling((0.1, 1.1), 1),\n",
    "        t.NonNegativeTranslation(1),\n",
    "        t.Voxelize(),\n",
    "        t.RandomDropout(0.5, 1),\n",
    "        t.RandomHorizontalFlip('z', [1, 1], 1),\n",
    "        t.ChromaticAutoContrast(apply_ratio=1),\n",
    "        t.ChromaticTranslation(0.1, apply_ratio=1),\n",
    "        t.ChromaticJitter(0.05, apply_ratio=1),\n",
    "        # t.HueSaturationTranslation(0.5, 0.2)\n",
    "    ]),\n",
    ")"
   ]
  },
  {
   "cell_type": "code",
   "execution_count": 2,
   "metadata": {},
   "outputs": [],
   "source": [
    "from torch.utils.data import DataLoader"
   ]
  },
  {
   "cell_type": "code",
   "execution_count": 3,
   "metadata": {},
   "outputs": [],
   "source": [
    "dataloader = DataLoader(dataset,\n",
    "                            batch_size=4,\n",
    "                            num_workers=1,\n",
    "                            collate_fn=t.cf_collate_fn_factory(250000))"
   ]
  },
  {
   "cell_type": "code",
   "execution_count": 4,
   "metadata": {},
   "outputs": [
    {
     "name": "stdout",
     "output_type": "stream",
     "text": [
      "torch.Size([81369, 3])\n"
     ]
    },
    {
     "name": "stderr",
     "output_type": "stream",
     "text": [
      "/home/tb5zhh/SUField/sufield/datasets/transforms.py:228: UserWarning: __floordiv__ is deprecated, and its behavior will change in a future version of pytorch. It currently rounds toward 0 (like the 'trunc' function NOT 'floor'). This results in incorrect rounding for negative values. To keep the current behavior, use torch.div(a, b, rounding_mode='trunc'), or for actual floor division, use torch.div(a, b, rounding_mode='floor').\n",
      "  noise_dim = ((coords - coords_min).max(0)[0] // granularity).to(int) + 3\n"
     ]
    },
    {
     "name": "stdout",
     "output_type": "stream",
     "text": [
      "torch.Size([81369, 3])\n",
      "torch.Size([81369, 3])\n",
      "torch.Size([81369, 3])\n",
      "torch.Size([81369, 3])\n",
      "torch.Size([45201, 3])\n",
      "torch.Size([45201, 3])\n",
      "torch.Size([22600, 3])\n",
      "torch.Size([22600, 3])\n",
      "torch.Size([22600, 3])\n",
      "torch.Size([22600, 3])\n",
      "torch.Size([22600, 3])\n",
      "torch.Size([80583, 3])\n",
      "torch.Size([80583, 3])\n",
      "torch.Size([80583, 3])\n",
      "torch.Size([80583, 3])\n",
      "torch.Size([80583, 3])\n",
      "torch.Size([31426, 3])\n",
      "torch.Size([31426, 3])\n",
      "torch.Size([15713, 3])\n",
      "torch.Size([15713, 3])\n",
      "torch.Size([15713, 3])\n",
      "torch.Size([15713, 3])\n",
      "torch.Size([15713, 3])\n",
      "torch.Size([86001, 3])\n",
      "torch.Size([86001, 3])\n",
      "torch.Size([86001, 3])\n",
      "torch.Size([86001, 3])\n",
      "torch.Size([86001, 3])\n",
      "torch.Size([20599, 3])\n",
      "torch.Size([20599, 3])\n",
      "torch.Size([10299, 3])\n",
      "torch.Size([10299, 3])\n",
      "torch.Size([10299, 3])\n",
      "torch.Size([10299, 3])\n",
      "torch.Size([10299, 3])\n",
      "torch.Size([125526, 3])\n",
      "torch.Size([125526, 3])\n",
      "torch.Size([125526, 3])\n",
      "torch.Size([125526, 3])\n",
      "torch.Size([125526, 3])\n",
      "torch.Size([24639, 3])\n",
      "torch.Size([24639, 3])\n",
      "torch.Size([12319, 3])\n",
      "torch.Size([12319, 3])\n",
      "torch.Size([12319, 3])\n",
      "torch.Size([12319, 3])\n",
      "torch.Size([12319, 3])\n",
      "torch.Size([124429, 3])\n",
      "torch.Size([124429, 3])\n",
      "torch.Size([124429, 3])\n",
      "torch.Size([124429, 3])\n",
      "torch.Size([124429, 3])\n",
      "torch.Size([16080, 3])\n",
      "torch.Size([16080, 3])\n",
      "torch.Size([8040, 3])\n",
      "torch.Size([8040, 3])\n",
      "torch.Size([8040, 3])\n",
      "torch.Size([8040, 3])\n",
      "torch.Size([8040, 3])\n"
     ]
    }
   ],
   "source": [
    "a = next(dataloader.__iter__())"
   ]
  },
  {
   "cell_type": "code",
   "execution_count": 7,
   "metadata": {},
   "outputs": [
    {
     "data": {
      "text/plain": [
       "(tensor([[  0,  82,  13,  16],\n",
       "         [  0,  81,  13,  14],\n",
       "         [  0,  80,  13,  15],\n",
       "         ...,\n",
       "         [  3, 113,   3,  18],\n",
       "         [  3, 119,   3,  27],\n",
       "         [  3, 114,   4,  19]], dtype=torch.int32),\n",
       " tensor([[ 88.,  65.,  72.],\n",
       "         [125.,  68.,  76.],\n",
       "         [116., 107.,  83.],\n",
       "         ...,\n",
       "         [104.,  61.,  26.],\n",
       "         [201., 163., 189.],\n",
       "         [123.,  47.,  68.]]),\n",
       " tensor([ 13, 255,  13,  ...,   0, 255,   0], dtype=torch.int32),\n",
       " ('/home/share/datasets/SCANNET/scans/scene0000_00/scene0000_00_vh_clean_2.ply',\n",
       "  '/home/share/datasets/SCANNET/scans/scene0000_01/scene0000_01_vh_clean_2.ply',\n",
       "  '/home/share/datasets/SCANNET/scans/scene0000_02/scene0000_02_vh_clean_2.ply',\n",
       "  '/home/share/datasets/SCANNET/scans/scene0001_00/scene0001_00_vh_clean_2.ply'),\n",
       " ('/home/share/datasets/SCANNET/scans/scene0000_00/scene0000_00_vh_clean_2.labels.ply',\n",
       "  '/home/share/datasets/SCANNET/scans/scene0000_01/scene0000_01_vh_clean_2.labels.ply',\n",
       "  '/home/share/datasets/SCANNET/scans/scene0000_02/scene0000_02_vh_clean_2.labels.ply',\n",
       "  '/home/share/datasets/SCANNET/scans/scene0001_00/scene0001_00_vh_clean_2.labels.ply'))"
      ]
     },
     "execution_count": 7,
     "metadata": {},
     "output_type": "execute_result"
    }
   ],
   "source": [
    "a"
   ]
  },
  {
   "cell_type": "code",
   "execution_count": 10,
   "metadata": {},
   "outputs": [
    {
     "data": {
      "text/plain": [
       "torch.float32"
      ]
     },
     "execution_count": 10,
     "metadata": {},
     "output_type": "execute_result"
    }
   ],
   "source": [
    "import torch\n",
    "torch.tensor(1.).dtype"
   ]
  },
  {
   "cell_type": "code",
   "execution_count": 1,
   "metadata": {},
   "outputs": [
    {
     "name": "stderr",
     "output_type": "stream",
     "text": [
      "/home/tb5zhh/.conda/envs/sufield/lib/python3.8/site-packages/MinkowskiEngine-0.5.4-py3.8-linux-x86_64.egg/MinkowskiEngine/__init__.py:36: UserWarning: The environment variable `OMP_NUM_THREADS` not set. MinkowskiEngine will automatically set `OMP_NUM_THREADS=16`. If you want to set `OMP_NUM_THREADS` manually, please export it on the command line before running a python script. e.g. `export OMP_NUM_THREADS=12; python your_program.py`. It is recommended to set it below 24.\n",
      "  warnings.warn(\n",
      "/home/tb5zhh/SUField/sufield/datasets/transforms.py:230: UserWarning: __floordiv__ is deprecated, and its behavior will change in a future version of pytorch. It currently rounds toward 0 (like the 'trunc' function NOT 'floor'). This results in incorrect rounding for negative values. To keep the current behavior, use torch.div(a, b, rounding_mode='trunc'), or for actual floor division, use torch.div(a, b, rounding_mode='floor').\n",
      "  noise_dim = ((coords - coords_min).max(0)[0] // granularity).to(int) + 3\n"
     ]
    },
    {
     "name": "stdout",
     "output_type": "stream",
     "text": [
      "torch.Size([8000, 3])\n",
      "torch.Size([8000, 3])\n",
      "torch.Size([8000, 3])\n",
      "torch.Size([8000, 3])\n",
      "torch.Size([5083, 3])\n",
      "torch.Size([5083, 3])\n",
      "torch.Size([2541, 3])\n",
      "torch.Size([2541, 3])\n",
      "torch.Size([2541, 3])\n",
      "torch.Size([2541, 3])\n",
      "torch.Size([2541, 3])\n"
     ]
    },
    {
     "data": {
      "text/plain": [
       "(tensor([[ 7, 10, 13],\n",
       "         [ 5, 19, 17],\n",
       "         [ 6,  3, 17],\n",
       "         ...,\n",
       "         [ 7,  7,  6],\n",
       "         [ 3, 15, 16],\n",
       "         [13,  7, 17]], device='cuda:0', dtype=torch.int32),\n",
       " tensor([[24.4992, 21.1477,  0.0000],\n",
       "         [21.4620, 21.5042,  0.9064],\n",
       "         [27.8408, 26.8956,  1.1982],\n",
       "         ...,\n",
       "         [27.5968, 24.5095,  0.0000],\n",
       "         [24.0799, 24.9140,  0.0000],\n",
       "         [26.8547, 25.9433,  0.2986]], device='cuda:0'),\n",
       " tensor([0, 0, 0,  ..., 0, 0, 0], device='cuda:0', dtype=torch.int32))"
      ]
     },
     "execution_count": 1,
     "metadata": {},
     "output_type": "execute_result"
    }
   ],
   "source": [
    "from sufield.datasets import get_transform\n",
    "import yaml\n",
    "with open('/home/tb5zhh/SUField/config.yaml') as f:\n",
    "    a = f.read()\n",
    "args =  yaml.load(a, yaml.Loader)['training']\n",
    "get_transform(args['transforms'])\n",
    "from sufield.datasets import get_transform\n",
    "import torch\n",
    "transform = get_transform(args['transforms'])\n",
    "a = torch.rand(8000, 3).cuda()\n",
    "b = (torch.rand(8000, 3) + 3).cuda()\n",
    "c = torch.rand(8000).cuda()\n",
    "transform(a, b, c)"
   ]
  },
  {
   "cell_type": "code",
   "execution_count": null,
   "metadata": {},
   "outputs": [],
   "source": []
  }
 ],
 "metadata": {
  "interpreter": {
   "hash": "fde14b715af4d5022e21d2ca89de90b36b4af4c77659aa6c45dcd90345f9299b"
  },
  "kernelspec": {
   "display_name": "Python 3.8.13 ('sufield')",
   "language": "python",
   "name": "python3"
  },
  "language_info": {
   "codemirror_mode": {
    "name": "ipython",
    "version": 3
   },
   "file_extension": ".py",
   "mimetype": "text/x-python",
   "name": "python",
   "nbconvert_exporter": "python",
   "pygments_lexer": "ipython3",
   "version": "3.8.13"
  },
  "orig_nbformat": 4
 },
 "nbformat": 4,
 "nbformat_minor": 2
}
